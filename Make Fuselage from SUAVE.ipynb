{
 "cells": [
  {
   "cell_type": "code",
   "execution_count": 5,
   "metadata": {
    "ExecuteTime": {
     "end_time": "2018-09-16T02:19:55.371000Z",
     "start_time": "2018-09-16T02:19:55.113000Z"
    }
   },
   "outputs": [],
   "source": [
    "! explorer ."
   ]
  },
  {
   "cell_type": "markdown",
   "metadata": {},
   "source": [
    "## dummy SUAVE Vehicle( only Fuselage)"
   ]
  },
  {
   "cell_type": "code",
   "execution_count": 1,
   "metadata": {
    "ExecuteTime": {
     "end_time": "2018-09-16T11:18:52.630000Z",
     "start_time": "2018-09-16T11:18:48.984000Z"
    }
   },
   "outputs": [],
   "source": [
    "import SUAVE\n",
    "from SUAVE.Core import Units, Data\n",
    "import vsp\n",
    "import numpy as np\n",
    "from SUAVE import func_tanuki\n",
    "\n",
    "vehicle = SUAVE.Vehicle()\n",
    "vehicle.tag = 'test'    \n",
    "\n",
    "# ------------------------------------------------------------------\n",
    "#  Fuselage\n",
    "# ------------------------------------------------------------------\n",
    "\n",
    "fuselage = SUAVE.Components.Fuselages.Fuselage()\n",
    "fuselage.tag = 'fuselage'\n",
    "\n",
    "fuselage.number_coach_seats    = vehicle.passengers\n",
    "fuselage.seats_abreast         = 6\n",
    "fuselage.seat_pitch            = 1     * Units.meter\n",
    "fuselage.fineness.nose         = 1.6\n",
    "fuselage.fineness.tail         = 2.\n",
    "fuselage.lengths.nose          = 6.4   * Units.meter\n",
    "fuselage.lengths.tail          = 8.0   * Units.meter\n",
    "fuselage.lengths.cabin         = 28.85 * Units.meter\n",
    "fuselage.lengths.total         = 38.02 * Units.meter\n",
    "fuselage.lengths.fore_space    = 6.    * Units.meter\n",
    "fuselage.lengths.aft_space     = 5.    * Units.meter\n",
    "fuselage.width                 = 3.74  * Units.meter\n",
    "fuselage.heights.maximum       = 3.74  * Units.meter\n",
    "fuselage.effective_diameter    = 3.74     * Units.meter\n",
    "fuselage.areas.side_projected  = 142.1948 * Units['meters**2'] \n",
    "fuselage.areas.wetted          = 446.718  * Units['meters**2'] \n",
    "fuselage.areas.front_projected = 12.57    * Units['meters**2'] \n",
    "fuselage.differential_pressure = 5.0e4 * Units.pascal # Maximum differential pressure\n",
    "\n",
    "fuselage.heights.at_quarter_length          = 3.74 * Units.meter\n",
    "fuselage.heights.at_three_quarters_length   = 3.65 * Units.meter\n",
    "fuselage.heights.at_wing_root_quarter_chord = 3.74 * Units.meter\n",
    "\n",
    "# add to vehicle\n",
    "vehicle.append_component(fuselage)\n"
   ]
  },
  {
   "cell_type": "markdown",
   "metadata": {
    "ExecuteTime": {
     "end_time": "2018-09-16T04:30:54.729000Z",
     "start_time": "2018-09-16T04:30:50.410000Z"
    }
   },
   "source": [
    "### ポイント作成"
   ]
  },
  {
   "cell_type": "code",
   "execution_count": 8,
   "metadata": {
    "ExecuteTime": {
     "end_time": "2018-09-16T11:22:16.880000Z",
     "start_time": "2018-09-16T11:22:16.856000Z"
    },
    "scrolled": true
   },
   "outputs": [
    {
     "data": {
      "text/plain": [
       "{5: [[1.0, 0.0],\n",
       "  [-1.6464187005086528, 0.2673574248151258],\n",
       "  [-0.7655926159053398, 0.3454787554509161],\n",
       "  [0.4217456011356646, 1.2404743782106356],\n",
       "  [0.760184500136173, 0.23250042370901136],\n",
       "  [1, 0]],\n",
       " 10: [[1.0, 0.0],\n",
       "  [-0.29721934134845124, -0.9405717694128263],\n",
       "  [-0.9566605802571427, -1.5243931526140873],\n",
       "  [0.5749734872575957, 0.8409931204783454],\n",
       "  [1.286791158934189, 0.19466478126513737],\n",
       "  [1, 0]],\n",
       " 15: [[1.0, 0.0],\n",
       "  [0.411067952144762, -0.3089195057924149],\n",
       "  [-0.6987126136828763, 0.008912503814661507],\n",
       "  [-1.6143416915728035, 0.06173071603478897],\n",
       "  [-0.2910959014523649, 1.1274846324521446],\n",
       "  [1, 0]],\n",
       " 20: [[1.0, 0.0],\n",
       "  [0.9804972822911556, -0.5232785911556482],\n",
       "  [0.6379276938019334, -1.019556358700804],\n",
       "  [-0.6309954127096811, -1.8679951642995916],\n",
       "  [-0.6479110519301242, -0.616921657285644],\n",
       "  [1, 0]],\n",
       " 25: [[1.0, 0.0],\n",
       "  [0.6195189481949898, -1.1231495666531555],\n",
       "  [-1.2840515119503888, 0.22870952714630885],\n",
       "  [0.7904924048741759, 1.214184524867822],\n",
       "  [0.33329054525865387, 0.3395386470621395],\n",
       "  [1, 0]],\n",
       " 30: [[1.0, 0.0],\n",
       "  [0.08442849383437814, -1.0027384550524314],\n",
       "  [-1.0469251460586553, 0.39527117343109713],\n",
       "  [0.21268682956569437, 1.4685539918404371],\n",
       "  [0.8315531261170044, 0.512379145738126],\n",
       "  [1, 0]],\n",
       " 35: [[1.0, 0.0],\n",
       "  [0.9540835866138926, -0.24887418457966914],\n",
       "  [-1.7804759546080884, 0.6112857110639326],\n",
       "  [1.3410846027519587, 1.969091272633494],\n",
       "  [0.5303343129983081, 0.7633417981584992],\n",
       "  [1, 0]]}"
      ]
     },
     "execution_count": 8,
     "metadata": {},
     "output_type": "execute_result"
    }
   ],
   "source": [
    "mydict ={}\n",
    "Xsec_STA = [5,10,15,20,25,30,35]\n",
    "for i in Xsec_STA:\n",
    "    mydict[i] = func_tanuki.create_point_random(1,4)\n",
    "fuselage.Sections.Xsec=mydict\n",
    "mydict"
   ]
  },
  {
   "cell_type": "code",
   "execution_count": 9,
   "metadata": {
    "ExecuteTime": {
     "end_time": "2018-09-16T11:25:14.194000Z",
     "start_time": "2018-09-16T11:25:13.337000Z"
    }
   },
   "outputs": [],
   "source": [
    "\"\"\"Test the OpenVSP Python Interface.\"\"\"\n",
    "%matplotlib inline\n",
    "from __future__ import print_function\n",
    "\n",
    "import vsp as vsp\n",
    "import numpy as np\n",
    "import pandas as pd\n",
    "\n",
    "def angle_between(refvec):#角度を計算\n",
    "    origin=[0,0]\n",
    "    ang1 = np.arctan2(*origin[::-1])\n",
    "    ang2 = np.arctan2(*refvec[::-1])\n",
    "    return np.rad2deg((ang1 - ang2) % (2 * np.pi))\n",
    "\n",
    "def create_point_random(start_and_end_point):#ランダムでポイントを作成\n",
    "    point = np.random.randn(5,2)\n",
    "    point = np.insert(point,0,start_and_end_point,axis=0)\n",
    "    pnt=point.tolist()\n",
    "    pnt = sorted(pnt, key=angle_between)\n",
    "    pnt.append(start_and_end_point)\n",
    "    return pnt\n",
    "\n",
    "stdout = vsp.cvar.cstdout\n",
    "errorMgr = vsp.ErrorMgrSingleton_getInstance()"
   ]
  },
  {
   "cell_type": "code",
   "execution_count": null,
   "metadata": {},
   "outputs": [],
   "source": [
    "fuselage = vehicle.fuselages.fuselage\n",
    "fuselage_length = fuselage.lengths.total\n",
    "\n",
    "vsp.VSPRenew()\n",
    "errorMgr.PopErrorAndPrint(stdout)\n",
    "\n",
    "geoms = vsp.FindGeoms()\n",
    "\n",
    "# Add Fuse\n",
    "fuse_id = vsp.AddGeom(\"FUSELAGE\")\n",
    "vsp.SetParmVal(fuse_id,\"Length\",\"Design\",fuselage_length)\n"
   ]
  },
  {
   "cell_type": "code",
   "execution_count": null,
   "metadata": {},
   "outputs": [],
   "source": []
  },
  {
   "cell_type": "code",
   "execution_count": null,
   "metadata": {},
   "outputs": [],
   "source": []
  },
  {
   "cell_type": "markdown",
   "metadata": {
    "ExecuteTime": {
     "end_time": "2018-09-15T10:55:25.684000Z",
     "start_time": "2018-09-15T10:55:25.652000Z"
    }
   },
   "source": [
    "## SUAVE vsp write(only Fuselage)"
   ]
  },
  {
   "cell_type": "code",
   "execution_count": 4,
   "metadata": {
    "ExecuteTime": {
     "end_time": "2018-09-16T11:20:44.599000Z",
     "start_time": "2018-09-16T11:20:44.584000Z"
    }
   },
   "outputs": [],
   "source": [
    "# -------------\n",
    "# Fuselage\n",
    "# -------------    \n",
    "\n",
    "fuselage = vehicle.fuselages.fuselage\n",
    "width    = fuselage.width\n",
    "length   = fuselage.lengths.total\n",
    "hmax     = fuselage.heights.maximum\n",
    "height1  = fuselage.heights.at_quarter_length\n",
    "height2  = fuselage.heights.at_wing_root_quarter_chord \n",
    "height3  = fuselage.heights.at_three_quarters_length\n",
    "effdia   = fuselage.effective_diameter\n",
    "n_fine   = fuselage.fineness.nose \n",
    "t_fine   = fuselage.fineness.tail  \n",
    "# w_ac     = wing.aerodynamic_center\n",
    "\n",
    "# w_origin = vehicle.wings.main_wing.origin\n",
    "# w_c_4    = vehicle.wings.main_wing.chords.root/4."
   ]
  },
  {
   "cell_type": "code",
   "execution_count": 11,
   "metadata": {
    "ExecuteTime": {
     "end_time": "2018-09-16T07:05:31.349000Z",
     "start_time": "2018-09-16T07:05:31.325000Z"
    }
   },
   "outputs": [],
   "source": [
    "# Figure out the location x location of each section, 3 sections, end of nose, wing origin, and start of tail\n",
    "\n",
    "x1 = n_fine*width/length\n",
    "# x2 = (w_origin[0]+w_c_4)/length\n",
    "# x3 = 1-t_fine*width/length\n",
    "\n",
    "x2 = 2\n",
    "x3 = 3\n",
    "\n",
    "fuse_id = vsp.AddGeom(\"FUSELAGE\") \n",
    "vsp.SetGeomName(fuse_id, fuselage.tag)\n",
    "# area_tags[fuselage.tag] = ['fuselages',fuselage.tag]\n",
    "\n",
    "tail_z_pos = 0.02 # default value"
   ]
  },
  {
   "cell_type": "code",
   "execution_count": 12,
   "metadata": {
    "ExecuteTime": {
     "end_time": "2018-09-16T07:05:31.923000Z",
     "start_time": "2018-09-16T07:05:31.859000Z"
    }
   },
   "outputs": [],
   "source": [
    "if fuselage.has_key('OpenVSP_values'):\n",
    "    vals = fuselage.OpenVSP_values\n",
    "\n",
    "    # for wave drag testing\n",
    "    fuselage.OpenVSP_ID = fuse_id\n",
    "\n",
    "    # Nose\n",
    "    vsp.SetParmVal(fuse_id,\"TopLAngle\",\"XSec_0\",vals.nose.top.angle)\n",
    "    vsp.SetParmVal(fuse_id,\"TopLStrength\",\"XSec_0\",vals.nose.top.strength)\n",
    "    vsp.SetParmVal(fuse_id,\"RightLAngle\",\"XSec_0\",vals.nose.side.angle)\n",
    "    vsp.SetParmVal(fuse_id,\"RightLStrength\",\"XSec_0\",vals.nose.side.strength)\n",
    "    vsp.SetParmVal(fuse_id,\"TBSym\",\"XSec_0\",vals.nose.TB_Sym)\n",
    "    vsp.SetParmVal(fuse_id,\"ZLocPercent\",\"XSec_0\",vals.nose.z_pos)\n",
    "\n",
    "\n",
    "    # Tail\n",
    "    vsp.SetParmVal(fuse_id,\"TopLAngle\",\"XSec_4\",vals.tail.top.angle)\n",
    "    vsp.SetParmVal(fuse_id,\"TopLStrength\",\"XSec_4\",vals.tail.top.strength)\n",
    "    # Below can be enabled if AllSym (below) is removed\n",
    "    #vsp.SetParmVal(fuse_id,\"RightLAngle\",\"XSec_4\",vals.tail.side.angle)\n",
    "    #vsp.SetParmVal(fuse_id,\"RightLStrength\",\"XSec_4\",vals.tail.side.strength)\n",
    "    #vsp.SetParmVal(fuse_id,\"TBSym\",\"XSec_4\",vals.tail.TB_Sym)\n",
    "    #vsp.SetParmVal(fuse_id,\"BottomLAngle\",\"XSec_4\",vals.tail.bottom.angle)\n",
    "    #vsp.SetParmVal(fuse_id,\"BottomLStrength\",\"XSec_4\",vals.tail.bottom.strength)\n",
    "    if vals.tail.has_key('z_pos'):\n",
    "        tail_z_pos = vals.tail.z_pos\n",
    "    else:\n",
    "        pass # use above default\n",
    "\n",
    "    vsp.SetParmVal(fuse_id,\"AllSym\",\"XSec_4\",1)\n",
    "\n",
    "vsp.SetParmVal(fuse_id,\"Length\",\"Design\",length)\n",
    "vsp.SetParmVal(fuse_id,\"Diameter\",\"Design\",width)\n",
    "vsp.SetParmVal(fuse_id,\"XLocPercent\",\"XSec_1\",x1)\n",
    "vsp.SetParmVal(fuse_id,\"XLocPercent\",\"XSec_2\",x2)\n",
    "vsp.SetParmVal(fuse_id,\"XLocPercent\",\"XSec_3\",x3)\n",
    "vsp.SetParmVal(fuse_id,\"ZLocPercent\",\"XSec_4\",tail_z_pos)\n",
    "vsp.SetParmVal(fuse_id, \"Ellipse_Width\", \"XSecCurve_1\", width)\n",
    "vsp.SetParmVal(fuse_id, \"Ellipse_Width\", \"XSecCurve_2\", width)\n",
    "vsp.SetParmVal(fuse_id, \"Ellipse_Width\", \"XSecCurve_3\", width)\n",
    "vsp.SetParmVal(fuse_id, \"Ellipse_Height\", \"XSecCurve_1\", height1);\n",
    "vsp.SetParmVal(fuse_id, \"Ellipse_Height\", \"XSecCurve_2\", height2);\n",
    "vsp.SetParmVal(fuse_id, \"Ellipse_Height\", \"XSecCurve_3\", height3);   \n",
    "\n",
    "# Write the vehicle to the file\n",
    "\n",
    "vsp.WriteVSPFile(fuselage.tag + \".vsp3\")"
   ]
  },
  {
   "cell_type": "code",
   "execution_count": 13,
   "metadata": {
    "ExecuteTime": {
     "end_time": "2018-09-16T07:05:33.016000Z",
     "start_time": "2018-09-16T07:05:32.798000Z"
    }
   },
   "outputs": [],
   "source": [
    "! explorer ."
   ]
  },
  {
   "cell_type": "code",
   "execution_count": null,
   "metadata": {},
   "outputs": [],
   "source": []
  },
  {
   "cell_type": "code",
   "execution_count": null,
   "metadata": {},
   "outputs": [],
   "source": []
  }
 ],
 "metadata": {
  "kernelspec": {
   "display_name": "Python 2",
   "language": "python",
   "name": "python2"
  },
  "language_info": {
   "codemirror_mode": {
    "name": "ipython",
    "version": 2
   },
   "file_extension": ".py",
   "mimetype": "text/x-python",
   "name": "python",
   "nbconvert_exporter": "python",
   "pygments_lexer": "ipython2",
   "version": "2.7.15"
  },
  "nbTranslate": {
   "displayLangs": [
    "*"
   ],
   "hotkey": "alt-t",
   "langInMainMenu": true,
   "sourceLang": "en",
   "targetLang": "fr",
   "useGoogleTranslate": true
  },
  "toc": {
   "base_numbering": 1,
   "nav_menu": {},
   "number_sections": true,
   "sideBar": true,
   "skip_h1_title": false,
   "title_cell": "Table of Contents",
   "title_sidebar": "Contents",
   "toc_cell": false,
   "toc_position": {},
   "toc_section_display": true,
   "toc_window_display": false
  },
  "varInspector": {
   "cols": {
    "lenName": 16,
    "lenType": 16,
    "lenVar": 40
   },
   "kernels_config": {
    "python": {
     "delete_cmd_postfix": "",
     "delete_cmd_prefix": "del ",
     "library": "var_list.py",
     "varRefreshCmd": "print(var_dic_list())"
    },
    "r": {
     "delete_cmd_postfix": ") ",
     "delete_cmd_prefix": "rm(",
     "library": "var_list.r",
     "varRefreshCmd": "cat(var_dic_list()) "
    }
   },
   "types_to_exclude": [
    "module",
    "function",
    "builtin_function_or_method",
    "instance",
    "_Feature"
   ],
   "window_display": false
  }
 },
 "nbformat": 4,
 "nbformat_minor": 2
}
