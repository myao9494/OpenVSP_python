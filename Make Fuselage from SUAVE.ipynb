{
 "cells": [
  {
   "cell_type": "code",
   "execution_count": 2,
   "metadata": {
    "ExecuteTime": {
     "end_time": "2018-09-24T05:26:42.296330Z",
     "start_time": "2018-09-24T05:26:41.927118Z"
    }
   },
   "outputs": [],
   "source": [
    "! explorer ."
   ]
  },
  {
   "cell_type": "code",
   "execution_count": 1,
   "metadata": {
    "ExecuteTime": {
     "end_time": "2018-09-24T05:26:16.875349Z",
     "start_time": "2018-09-24T05:26:16.124992Z"
    }
   },
   "outputs": [],
   "source": [
    "! code ."
   ]
  },
  {
   "cell_type": "code",
   "execution_count": 1,
   "metadata": {
    "ExecuteTime": {
     "end_time": "2018-09-24T05:29:45.189000Z",
     "start_time": "2018-09-24T05:29:45.173000Z"
    }
   },
   "outputs": [],
   "source": [
    "import numpy as np\n",
    "\n",
    "def _angle_between(refvec):\n",
    "    origin=[0,0]\n",
    "    ang1 = np.arctan2(*origin[::-1])\n",
    "    ang2 = np.arctan2(*refvec[::-1])\n",
    "    return np.rad2deg((ang1 - ang2) % (2 * np.pi))\n",
    "\n",
    "def create_point_random(x,num):\n",
    "    \"\"\"OpenVSP Xsec_point create\n",
    "    \n",
    "    Arguments:\n",
    "        x {float} -- x_start point(Y=0)\n",
    "        num {int} -- number of xsec_point\n",
    "    \n",
    "    Returns:\n",
    "        list -- Xsec_point_list\n",
    "    \"\"\"\n",
    "    start_and_end_point = [x,0]\n",
    "    point = np.random.randn(num,2)\n",
    "    point = np.insert(point,0,start_and_end_point,axis=0)\n",
    "    pnt=point.tolist()\n",
    "    pnt = sorted(pnt, key=_angle_between)\n",
    "    pnt.append(start_and_end_point)\n",
    "    return pnt"
   ]
  },
  {
   "cell_type": "markdown",
   "metadata": {},
   "source": [
    "## dummy SUAVE Vehicle( only Fuselage)"
   ]
  },
  {
   "cell_type": "code",
   "execution_count": 2,
   "metadata": {
    "ExecuteTime": {
     "end_time": "2018-09-24T05:29:50.709000Z",
     "start_time": "2018-09-24T05:29:46.969000Z"
    }
   },
   "outputs": [],
   "source": [
    "import SUAVE\n",
    "from SUAVE.Core import Units, Data\n",
    "import vsp\n",
    "import numpy as np\n",
    "# from SUAVE import func_tanuki\n",
    "\n",
    "vehicle = SUAVE.Vehicle()\n",
    "vehicle.tag = 'test'    \n",
    "\n",
    "# ------------------------------------------------------------------\n",
    "#  Fuselage\n",
    "# ------------------------------------------------------------------\n",
    "\n",
    "fuselage = SUAVE.Components.Fuselages.Fuselage()\n",
    "fuselage.tag = 'fuselage'\n",
    "\n",
    "fuselage.number_coach_seats    = vehicle.passengers\n",
    "fuselage.seats_abreast         = 6\n",
    "fuselage.seat_pitch            = 1     * Units.meter\n",
    "fuselage.fineness.nose         = 1.6\n",
    "fuselage.fineness.tail         = 2.\n",
    "fuselage.lengths.nose          = 6.4   * Units.meter\n",
    "fuselage.lengths.tail          = 8.0   * Units.meter\n",
    "fuselage.lengths.cabin         = 28.85 * Units.meter\n",
    "fuselage.lengths.total         = 38.02 * Units.meter\n",
    "fuselage.lengths.fore_space    = 6.    * Units.meter\n",
    "fuselage.lengths.aft_space     = 5.    * Units.meter\n",
    "fuselage.width                 = 3.74  * Units.meter\n",
    "fuselage.heights.maximum       = 3.74  * Units.meter\n",
    "fuselage.effective_diameter    = 3.74     * Units.meter\n",
    "fuselage.areas.side_projected  = 142.1948 * Units['meters**2'] \n",
    "fuselage.areas.wetted          = 446.718  * Units['meters**2'] \n",
    "fuselage.areas.front_projected = 12.57    * Units['meters**2'] \n",
    "fuselage.differential_pressure = 5.0e4 * Units.pascal # Maximum differential pressure\n",
    "\n",
    "fuselage.heights.at_quarter_length          = 3.74 * Units.meter\n",
    "fuselage.heights.at_three_quarters_length   = 3.65 * Units.meter\n",
    "fuselage.heights.at_wing_root_quarter_chord = 3.74 * Units.meter\n",
    "\n",
    "# add to vehicle\n",
    "vehicle.append_component(fuselage)\n"
   ]
  },
  {
   "cell_type": "markdown",
   "metadata": {
    "ExecuteTime": {
     "end_time": "2018-09-15T10:55:25.684000Z",
     "start_time": "2018-09-15T10:55:25.652000Z"
    }
   },
   "source": [
    "## SUAVE vsp write(only Fuselage)"
   ]
  },
  {
   "cell_type": "code",
   "execution_count": 3,
   "metadata": {
    "ExecuteTime": {
     "end_time": "2018-09-24T05:29:51.889000Z",
     "start_time": "2018-09-24T05:29:51.865000Z"
    }
   },
   "outputs": [],
   "source": [
    "# -------------\n",
    "# Fuselage\n",
    "# -------------    \n",
    "\n",
    "fuselage = vehicle.fuselages.fuselage\n",
    "width    = fuselage.width\n",
    "length   = fuselage.lengths.total\n",
    "hmax     = fuselage.heights.maximum\n",
    "height1  = fuselage.heights.at_quarter_length\n",
    "height2  = fuselage.heights.at_wing_root_quarter_chord \n",
    "height3  = fuselage.heights.at_three_quarters_length\n",
    "effdia   = fuselage.effective_diameter\n",
    "n_fine   = fuselage.fineness.nose \n",
    "t_fine   = fuselage.fineness.tail  \n",
    "# w_ac     = wing.aerodynamic_center\n",
    "\n",
    "# w_origin = vehicle.wings.main_wing.origin\n",
    "# w_c_4    = vehicle.wings.main_wing.chords.root/4."
   ]
  },
  {
   "cell_type": "markdown",
   "metadata": {},
   "source": [
    "### fuselageを作成して、全長をセット"
   ]
  },
  {
   "cell_type": "code",
   "execution_count": 4,
   "metadata": {
    "ExecuteTime": {
     "end_time": "2018-09-24T05:29:53.137000Z",
     "start_time": "2018-09-24T05:29:53.093000Z"
    }
   },
   "outputs": [
    {
     "data": {
      "text/plain": [
       "38.02"
      ]
     },
     "execution_count": 4,
     "metadata": {},
     "output_type": "execute_result"
    }
   ],
   "source": [
    "fuse_id = vsp.AddGeom(\"FUSELAGE\") \n",
    "vsp.SetGeomName(fuse_id, fuselage.tag)\n",
    "vsp.SetParmVal(fuse_id,\"Length\",\"Design\",length)\n",
    "# x1 = n_fine*width/length\n",
    "# vsp.SetParmVal(fuse_id,\"XLocPercent\",\"XSec_1\",x1)"
   ]
  },
  {
   "cell_type": "markdown",
   "metadata": {},
   "source": [
    "### 仮の断面を作成\n",
    "辞書型"
   ]
  },
  {
   "cell_type": "code",
   "execution_count": 9,
   "metadata": {
    "ExecuteTime": {
     "end_time": "2018-09-24T05:30:52.859000Z",
     "start_time": "2018-09-24T05:30:52.849000Z"
    }
   },
   "outputs": [],
   "source": [
    "mydict ={}\n",
    "Xsec_STA = [0,2,3,5,10,15,18,20,length]\n",
    "temp = create_point_random(1,3)\n",
    "for i in Xsec_STA:\n",
    "    mydict[i] = temp\n",
    "fuselage.Sections.Xsec=mydict"
   ]
  },
  {
   "cell_type": "markdown",
   "metadata": {},
   "source": [
    "### 断面の作成\n",
    "vsp.InsertXSec(fuse_id, 断面の番号,断面のID（6はFUSE_FILE))"
   ]
  },
  {
   "cell_type": "markdown",
   "metadata": {},
   "source": [
    "fix_secにある断面は移動できないので、これでグルーピングする。グルーピング結果で場合わけ\n",
    "- インサートする断面とgroupは同じになる\n",
    "- iはインサートした数（グループに足すことによって、断面の番号を補正している　←断面を増やすとfixsecの番号がずれるため）"
   ]
  },
  {
   "cell_type": "code",
   "execution_count": 6,
   "metadata": {
    "ExecuteTime": {
     "end_time": "2018-09-24T05:29:56.752000Z",
     "start_time": "2018-09-24T05:29:56.033000Z"
    }
   },
   "outputs": [],
   "source": [
    "# taisho_sec = 3\n",
    "fix_sec = [0,0.25,0.5,0.75,1]\n",
    "bins = np.array(fix_sec)\n",
    "i = 0\n",
    "for taisho_sec in range(len(Xsec_STA)):\n",
    "    Xsec = \"XSec_\" + str(taisho_sec)\n",
    "    location = Xsec_STA[taisho_sec]/length\n",
    "    \n",
    "    if location in fix_sec:\n",
    "        group = 0\n",
    "    else:\n",
    "        group = inds = np.digitize(location, bins)\n",
    "\n",
    "    if group == 0:\n",
    "        pass\n",
    "    else :\n",
    "        vsp.InsertXSec(fuse_id, int(group+i),6)\n",
    "        vsp.SetParmVal(fuse_id,\"XLocPercent\",Xsec,location)\n",
    "        i += 1"
   ]
  },
  {
   "cell_type": "markdown",
   "metadata": {},
   "source": [
    "### 断面の形状をセットする"
   ]
  },
  {
   "cell_type": "code",
   "execution_count": 10,
   "metadata": {
    "ExecuteTime": {
     "end_time": "2018-09-24T05:31:07.802000Z",
     "start_time": "2018-09-24T05:31:07.765000Z"
    }
   },
   "outputs": [],
   "source": [
    "for taisho_sec in range(len(Xsec_STA)):\n",
    "    Xsec_data = mydict[Xsec_STA[taisho_sec]]\n",
    "    xsurf_id = vsp.GetXSecSurf(fuse_id, taisho_sec)\n",
    "    vsp.ChangeXSecShape(xsurf_id, taisho_sec, vsp.XS_FILE_FUSE)\n",
    "\n",
    "    # get xsec id and set point\n",
    "    file_xsec_id = vsp.GetXSec(xsurf_id, taisho_sec)\n",
    "    # Build Point Vec\n",
    "    pnt_vec = vsp.Vec3dVec()\n",
    "    for vec in Xsec_data:\n",
    "        pnt_vec.push_back(vsp.vec3d(vec[0], vec[1], 0.0)) \n",
    "    # Load Points Into XSec\n",
    "    vsp.SetXSecPnts(file_xsec_id, pnt_vec)"
   ]
  },
  {
   "cell_type": "markdown",
   "metadata": {
    "ExecuteTime": {
     "end_time": "2018-09-22T12:12:58.863000Z",
     "start_time": "2018-09-22T12:12:58.852000Z"
    }
   },
   "source": [
    "### vspデータの出力\n",
    "エラーだと、vspで読み込みができない"
   ]
  },
  {
   "cell_type": "code",
   "execution_count": 11,
   "metadata": {
    "ExecuteTime": {
     "end_time": "2018-09-24T05:31:09.158000Z",
     "start_time": "2018-09-24T05:31:09.133000Z"
    }
   },
   "outputs": [],
   "source": [
    "# vsp.WriteVSPFile(fuselage.tag + \".vsp3\")\n",
    "vsp.WriteVSPFile(\"ssss7\" + \".vsp3\")"
   ]
  },
  {
   "cell_type": "markdown",
   "metadata": {},
   "source": [
    "## 工事中"
   ]
  },
  {
   "cell_type": "markdown",
   "metadata": {},
   "source": [
    "### 一点目と最後はpointとする。"
   ]
  },
  {
   "cell_type": "code",
   "execution_count": null,
   "metadata": {},
   "outputs": [],
   "source": []
  }
 ],
 "metadata": {
  "kernelspec": {
   "display_name": "Python 2",
   "language": "python",
   "name": "python2"
  },
  "language_info": {
   "codemirror_mode": {
    "name": "ipython",
    "version": 2
   },
   "file_extension": ".py",
   "mimetype": "text/x-python",
   "name": "python",
   "nbconvert_exporter": "python",
   "pygments_lexer": "ipython2",
   "version": "2.7.15"
  },
  "nbTranslate": {
   "displayLangs": [
    "*"
   ],
   "hotkey": "alt-t",
   "langInMainMenu": true,
   "sourceLang": "en",
   "targetLang": "fr",
   "useGoogleTranslate": true
  },
  "toc": {
   "base_numbering": 1,
   "nav_menu": {},
   "number_sections": true,
   "sideBar": true,
   "skip_h1_title": false,
   "title_cell": "Table of Contents",
   "title_sidebar": "Contents",
   "toc_cell": false,
   "toc_position": {},
   "toc_section_display": true,
   "toc_window_display": false
  },
  "varInspector": {
   "cols": {
    "lenName": 16,
    "lenType": 16,
    "lenVar": 40
   },
   "kernels_config": {
    "python": {
     "delete_cmd_postfix": "",
     "delete_cmd_prefix": "del ",
     "library": "var_list.py",
     "varRefreshCmd": "print(var_dic_list())"
    },
    "r": {
     "delete_cmd_postfix": ") ",
     "delete_cmd_prefix": "rm(",
     "library": "var_list.r",
     "varRefreshCmd": "cat(var_dic_list()) "
    }
   },
   "types_to_exclude": [
    "module",
    "function",
    "builtin_function_or_method",
    "instance",
    "_Feature"
   ],
   "window_display": false
  }
 },
 "nbformat": 4,
 "nbformat_minor": 2
}
