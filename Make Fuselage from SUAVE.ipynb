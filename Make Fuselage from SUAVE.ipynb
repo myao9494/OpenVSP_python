{
 "cells": [
  {
   "cell_type": "code",
   "execution_count": 5,
   "metadata": {
    "ExecuteTime": {
     "end_time": "2018-09-16T02:19:55.371000Z",
     "start_time": "2018-09-16T02:19:55.113000Z"
    }
   },
   "outputs": [],
   "source": [
    "! explorer ."
   ]
  },
  {
   "cell_type": "markdown",
   "metadata": {},
   "source": [
    "## dummy SUAVE Vehicle( only Fuselage)"
   ]
  },
  {
   "cell_type": "code",
   "execution_count": 1,
   "metadata": {
    "ExecuteTime": {
     "end_time": "2018-09-18T09:43:07.240000Z",
     "start_time": "2018-09-18T09:42:59.364000Z"
    }
   },
   "outputs": [],
   "source": [
    "import SUAVE\n",
    "from SUAVE.Core import Units, Data\n",
    "import vsp\n",
    "import numpy as np\n",
    "from SUAVE import func_tanuki\n",
    "\n",
    "vehicle = SUAVE.Vehicle()\n",
    "vehicle.tag = 'test'    \n",
    "\n",
    "# ------------------------------------------------------------------\n",
    "#  Fuselage\n",
    "# ------------------------------------------------------------------\n",
    "\n",
    "fuselage = SUAVE.Components.Fuselages.Fuselage()\n",
    "fuselage.tag = 'fuselage'\n",
    "\n",
    "fuselage.number_coach_seats    = vehicle.passengers\n",
    "fuselage.seats_abreast         = 6\n",
    "fuselage.seat_pitch            = 1     * Units.meter\n",
    "fuselage.fineness.nose         = 1.6\n",
    "fuselage.fineness.tail         = 2.\n",
    "fuselage.lengths.nose          = 6.4   * Units.meter\n",
    "fuselage.lengths.tail          = 8.0   * Units.meter\n",
    "fuselage.lengths.cabin         = 28.85 * Units.meter\n",
    "fuselage.lengths.total         = 38.02 * Units.meter\n",
    "fuselage.lengths.fore_space    = 6.    * Units.meter\n",
    "fuselage.lengths.aft_space     = 5.    * Units.meter\n",
    "fuselage.width                 = 3.74  * Units.meter\n",
    "fuselage.heights.maximum       = 3.74  * Units.meter\n",
    "fuselage.effective_diameter    = 3.74     * Units.meter\n",
    "fuselage.areas.side_projected  = 142.1948 * Units['meters**2'] \n",
    "fuselage.areas.wetted          = 446.718  * Units['meters**2'] \n",
    "fuselage.areas.front_projected = 12.57    * Units['meters**2'] \n",
    "fuselage.differential_pressure = 5.0e4 * Units.pascal # Maximum differential pressure\n",
    "\n",
    "fuselage.heights.at_quarter_length          = 3.74 * Units.meter\n",
    "fuselage.heights.at_three_quarters_length   = 3.65 * Units.meter\n",
    "fuselage.heights.at_wing_root_quarter_chord = 3.74 * Units.meter\n",
    "\n",
    "# add to vehicle\n",
    "vehicle.append_component(fuselage)\n"
   ]
  },
  {
   "cell_type": "markdown",
   "metadata": {
    "ExecuteTime": {
     "end_time": "2018-09-16T04:30:54.729000Z",
     "start_time": "2018-09-16T04:30:50.410000Z"
    }
   },
   "source": [
    "### ポイント作成"
   ]
  },
  {
   "cell_type": "code",
   "execution_count": 2,
   "metadata": {
    "ExecuteTime": {
     "end_time": "2018-09-18T09:43:10.633000Z",
     "start_time": "2018-09-18T09:43:10.238000Z"
    }
   },
   "outputs": [],
   "source": [
    "\"\"\"Test the OpenVSP Python Interface.\"\"\"\n",
    "%matplotlib inline\n",
    "from __future__ import print_function\n",
    "\n",
    "import vsp as vsp\n",
    "import numpy as np\n",
    "import pandas as pd\n",
    "\n",
    "def angle_between(refvec):#角度を計算\n",
    "    origin=[0,0]\n",
    "    ang1 = np.arctan2(*origin[::-1])\n",
    "    ang2 = np.arctan2(*refvec[::-1])\n",
    "    return np.rad2deg((ang1 - ang2) % (2 * np.pi))\n",
    "\n",
    "def create_point_random(start_and_end_point):#ランダムでポイントを作成\n",
    "    point = np.random.randn(5,2)\n",
    "    point = np.insert(point,0,start_and_end_point,axis=0)\n",
    "    pnt=point.tolist()\n",
    "    pnt = sorted(pnt, key=angle_between)\n",
    "    pnt.append(start_and_end_point)\n",
    "    return pnt\n",
    "\n",
    "stdout = vsp.cvar.cstdout\n",
    "errorMgr = vsp.ErrorMgrSingleton_getInstance()"
   ]
  },
  {
   "cell_type": "code",
   "execution_count": 3,
   "metadata": {
    "ExecuteTime": {
     "end_time": "2018-09-18T09:43:11.808000Z",
     "start_time": "2018-09-18T09:43:11.784000Z"
    },
    "scrolled": true
   },
   "outputs": [
    {
     "data": {
      "text/plain": [
       "{5: [[1.0, 0.0],\n",
       "  [-0.5403073392422845, -1.7900868931735345],\n",
       "  [-2.2433142273981086, 0.6900406351950944],\n",
       "  [-0.42330727856512684, 0.41055403915786937],\n",
       "  [-0.02713510804924208, 0.4245144810753807],\n",
       "  [1, 0]],\n",
       " 10: [[1.0, 0.0],\n",
       "  [-2.3716948529404784, -0.2922514957008591],\n",
       "  [-2.3288158417837894, 0.8877142947226602],\n",
       "  [1.184089750584397, 0.9482502003963316],\n",
       "  [0.0684827332469416, 0.050050918348624115],\n",
       "  [1, 0]],\n",
       " 15: [[1.0, 0.0],\n",
       "  [0.17473681828402948, -0.8463228887733507],\n",
       "  [-1.2868758943108107, 1.3079286265011265],\n",
       "  [0.5947386911687947, 0.637625847800252],\n",
       "  [1.5469387334401656, 0.2406182968253368],\n",
       "  [1, 0]],\n",
       " 20: [[1.0, 0.0],\n",
       "  [-1.4958834204626354, -0.6947885634381171],\n",
       "  [-2.27216109635343, 0.7372168453618718],\n",
       "  [0.5913112071944594, 0.6833230911648379],\n",
       "  [2.367352331197621, 1.1865745437146091],\n",
       "  [1, 0]],\n",
       " 25: [[1.0, 0.0],\n",
       "  [1.9511606505248515, -1.7739198379630061],\n",
       "  [-0.23884405742738515, 0.6696043965350489],\n",
       "  [0.9098046848685901, 2.903598350743495],\n",
       "  [0.9764476749451007, 0.007311675245981177],\n",
       "  [1, 0]],\n",
       " 30: [[1.0, 0.0],\n",
       "  [-1.6887657357093642, -0.24173246102329057],\n",
       "  [1.5286353798906909, 2.583480930332198],\n",
       "  [0.4062596575434191, 0.41670457802474437],\n",
       "  [1.311829602543623, 0.7024495183748853],\n",
       "  [1, 0]],\n",
       " 35: [[1.0, 0.0],\n",
       "  [0.613456642915572, -0.6981518808724081],\n",
       "  [-0.6250165226663039, 0.06705658973549597],\n",
       "  [-1.7022343380043483, 0.5405420435390803],\n",
       "  [0.38720276780933455, 0.6681002888544268],\n",
       "  [1, 0]]}"
      ]
     },
     "execution_count": 3,
     "metadata": {},
     "output_type": "execute_result"
    }
   ],
   "source": [
    "mydict ={}\n",
    "Xsec_STA = [5,10,15,20,25,30,35]\n",
    "for i in Xsec_STA:\n",
    "    mydict[i] = func_tanuki.create_point_random(1,4)\n",
    "fuselage.Sections.Xsec=mydict\n",
    "mydict"
   ]
  },
  {
   "cell_type": "code",
   "execution_count": 46,
   "metadata": {
    "ExecuteTime": {
     "end_time": "2018-09-18T10:12:50.406000Z",
     "start_time": "2018-09-18T10:12:50.397000Z"
    }
   },
   "outputs": [],
   "source": [
    "a=mydict.items()"
   ]
  },
  {
   "cell_type": "code",
   "execution_count": 51,
   "metadata": {
    "ExecuteTime": {
     "end_time": "2018-09-18T10:13:54.054000Z",
     "start_time": "2018-09-18T10:13:54.041000Z"
    }
   },
   "outputs": [
    {
     "data": {
      "text/plain": [
       "35"
      ]
     },
     "execution_count": 51,
     "metadata": {},
     "output_type": "execute_result"
    }
   ],
   "source": [
    "a[0][0]"
   ]
  },
  {
   "cell_type": "code",
   "execution_count": 52,
   "metadata": {
    "ExecuteTime": {
     "end_time": "2018-09-18T10:13:54.696000Z",
     "start_time": "2018-09-18T10:13:54.682000Z"
    }
   },
   "outputs": [
    {
     "data": {
      "text/plain": [
       "[[1.0, 0.0],\n",
       " [0.613456642915572, -0.6981518808724081],\n",
       " [-0.6250165226663039, 0.06705658973549597],\n",
       " [-1.7022343380043483, 0.5405420435390803],\n",
       " [0.38720276780933455, 0.6681002888544268],\n",
       " [1, 0]]"
      ]
     },
     "execution_count": 52,
     "metadata": {},
     "output_type": "execute_result"
    }
   ],
   "source": [
    "a[0][1]"
   ]
  },
  {
   "cell_type": "markdown",
   "metadata": {
    "ExecuteTime": {
     "end_time": "2018-09-15T10:55:25.684000Z",
     "start_time": "2018-09-15T10:55:25.652000Z"
    }
   },
   "source": [
    "## SUAVE vsp write(only Fuselage)"
   ]
  },
  {
   "cell_type": "code",
   "execution_count": 4,
   "metadata": {
    "ExecuteTime": {
     "end_time": "2018-09-18T09:43:59.594000Z",
     "start_time": "2018-09-18T09:43:59.578000Z"
    }
   },
   "outputs": [],
   "source": [
    "# -------------\n",
    "# Fuselage\n",
    "# -------------    \n",
    "\n",
    "fuselage = vehicle.fuselages.fuselage\n",
    "width    = fuselage.width\n",
    "length   = fuselage.lengths.total\n",
    "hmax     = fuselage.heights.maximum\n",
    "height1  = fuselage.heights.at_quarter_length\n",
    "height2  = fuselage.heights.at_wing_root_quarter_chord \n",
    "height3  = fuselage.heights.at_three_quarters_length\n",
    "effdia   = fuselage.effective_diameter\n",
    "n_fine   = fuselage.fineness.nose \n",
    "t_fine   = fuselage.fineness.tail  \n",
    "# w_ac     = wing.aerodynamic_center\n",
    "\n",
    "# w_origin = vehicle.wings.main_wing.origin\n",
    "# w_c_4    = vehicle.wings.main_wing.chords.root/4."
   ]
  },
  {
   "cell_type": "code",
   "execution_count": null,
   "metadata": {},
   "outputs": [],
   "source": []
  },
  {
   "cell_type": "code",
   "execution_count": 34,
   "metadata": {
    "ExecuteTime": {
     "end_time": "2018-09-18T10:05:22.331000Z",
     "start_time": "2018-09-18T10:05:22.310000Z"
    }
   },
   "outputs": [],
   "source": [
    "def create_sec(taisho_Xsec,X_sec_XLocation):\n",
    "    #set location\n",
    "    Xsec = \"XSec_\" + str(taisho_Xsec)\n",
    "    Xsec = \"\"\n",
    "    vsp.SetParmVal(fuse_id,\"XLocPercent\",\"XSec_1\",2)\n",
    "\n",
    "    # get surface id and change section type\n",
    "    xsurf_id = vsp.GetXSecSurf(fuse_id, taisho_Xsec)\n",
    "    vsp.ChangeXSecShape(xsurf_id, taisho_Xsec, vsp.XS_FILE_FUSE)\n",
    "\n",
    "    # get xsec id and set point\n",
    "    file_xsec_id = vsp.GetXSec(xsurf_id, taisho_Xsec)\n",
    "    # Build Point Vec\n",
    "    pnt = create_point_random([1,0])\n",
    "    pnt_vec = vsp.Vec3dVec()\n",
    "    for vec in pnt:\n",
    "        pnt_vec.push_back(vsp.vec3d(vec[0], vec[1], 0.0)) \n",
    "\n",
    "    # Load Points Into XSec\n",
    "    vsp.SetXSecPnts(file_xsec_id, pnt_vec)\n",
    "\n",
    "    df = pd.DataFrame(pnt)\n",
    "    df.plot(kind='scatter', x=0, y=1)"
   ]
  },
  {
   "cell_type": "code",
   "execution_count": 35,
   "metadata": {
    "ExecuteTime": {
     "end_time": "2018-09-18T10:05:23.006000Z",
     "start_time": "2018-09-18T10:05:22.981000Z"
    }
   },
   "outputs": [
    {
     "ename": "NameError",
     "evalue": "name 'Xsec' is not defined",
     "output_type": "error",
     "traceback": [
      "\u001b[1;31m---------------------------------------------------------------------------\u001b[0m",
      "\u001b[1;31mNameError\u001b[0m                                 Traceback (most recent call last)",
      "\u001b[1;32m<ipython-input-35-ce9c3491c36f>\u001b[0m in \u001b[0;36m<module>\u001b[1;34m()\u001b[0m\n\u001b[1;32m----> 1\u001b[1;33m \u001b[0mXsec\u001b[0m\u001b[1;33m\u001b[0m\u001b[0m\n\u001b[0m",
      "\u001b[1;31mNameError\u001b[0m: name 'Xsec' is not defined"
     ]
    }
   ],
   "source": [
    "Xsec"
   ]
  },
  {
   "cell_type": "code",
   "execution_count": 36,
   "metadata": {
    "ExecuteTime": {
     "end_time": "2018-09-18T10:05:24.165000Z",
     "start_time": "2018-09-18T10:05:24.138000Z"
    }
   },
   "outputs": [],
   "source": [
    "# Figure out the location x location of each section, 3 sections, end of nose, wing origin, and start of tail\n",
    "\n",
    "x1 = n_fine*width/length\n",
    "# x2 = (w_origin[0]+w_c_4)/length\n",
    "# x3 = 1-t_fine*width/length\n",
    "\n",
    "x2 = 2\n",
    "x3 = 3\n",
    "\n",
    "fuse_id = vsp.AddGeom(\"FUSELAGE\") \n",
    "vsp.SetGeomName(fuse_id, fuselage.tag)\n",
    "# area_tags[fuselage.tag] = ['fuselages',fuselage.tag]\n",
    "\n",
    "tail_z_pos = 0.02 # default value"
   ]
  },
  {
   "cell_type": "code",
   "execution_count": 37,
   "metadata": {
    "ExecuteTime": {
     "end_time": "2018-09-18T10:05:42.949000Z",
     "start_time": "2018-09-18T10:05:42.625000Z"
    }
   },
   "outputs": [
    {
     "data": {
      "image/png": "[encoded data removed]",
      "text/plain": [
       "<Figure size 432x288 with 1 Axes>"
      ]
     },
     "metadata": {},
     "output_type": "display_data"
    }
   ],
   "source": [
    "if fuselage.has_key('OpenVSP_values'):\n",
    "    vals = fuselage.OpenVSP_values\n",
    "\n",
    "    # for wave drag testing\n",
    "    fuselage.OpenVSP_ID = fuse_id\n",
    "\n",
    "    # Nose\n",
    "    vsp.SetParmVal(fuse_id,\"TopLAngle\",\"XSec_0\",vals.nose.top.angle)\n",
    "    vsp.SetParmVal(fuse_id,\"TopLStrength\",\"XSec_0\",vals.nose.top.strength)\n",
    "    vsp.SetParmVal(fuse_id,\"RightLAngle\",\"XSec_0\",vals.nose.side.angle)\n",
    "    vsp.SetParmVal(fuse_id,\"RightLStrength\",\"XSec_0\",vals.nose.side.strength)\n",
    "    vsp.SetParmVal(fuse_id,\"TBSym\",\"XSec_0\",vals.nose.TB_Sym)\n",
    "    vsp.SetParmVal(fuse_id,\"ZLocPercent\",\"XSec_0\",vals.nose.z_pos)\n",
    "\n",
    "\n",
    "    # Tail\n",
    "    vsp.SetParmVal(fuse_id,\"TopLAngle\",\"XSec_4\",vals.tail.top.angle)\n",
    "    vsp.SetParmVal(fuse_id,\"TopLStrength\",\"XSec_4\",vals.tail.top.strength)\n",
    "    # Below can be enabled if AllSym (below) is removed\n",
    "    #vsp.SetParmVal(fuse_id,\"RightLAngle\",\"XSec_4\",vals.tail.side.angle)\n",
    "    #vsp.SetParmVal(fuse_id,\"RightLStrength\",\"XSec_4\",vals.tail.side.strength)\n",
    "    #vsp.SetParmVal(fuse_id,\"TBSym\",\"XSec_4\",vals.tail.TB_Sym)\n",
    "    #vsp.SetParmVal(fuse_id,\"BottomLAngle\",\"XSec_4\",vals.tail.bottom.angle)\n",
    "    #vsp.SetParmVal(fuse_id,\"BottomLStrength\",\"XSec_4\",vals.tail.bottom.strength)\n",
    "    if vals.tail.has_key('z_pos'):\n",
    "        tail_z_pos = vals.tail.z_pos\n",
    "    else:\n",
    "        pass # use above default\n",
    "\n",
    "    vsp.SetParmVal(fuse_id,\"AllSym\",\"XSec_4\",1)\n",
    "\n",
    "vsp.SetParmVal(fuse_id,\"Length\",\"Design\",length)\n",
    "vsp.SetParmVal(fuse_id,\"Diameter\",\"Design\",width)\n",
    "# vsp.SetParmVal(fuse_id,\"XLocPercent\",\"XSec_1\",x1)\n",
    "create_sec(1,2)\n",
    "vsp.SetParmVal(fuse_id,\"XLocPercent\",\"XSec_2\",x2)\n",
    "vsp.SetParmVal(fuse_id,\"XLocPercent\",\"XSec_3\",x3)\n",
    "vsp.SetParmVal(fuse_id,\"ZLocPercent\",\"XSec_4\",tail_z_pos)\n",
    "vsp.SetParmVal(fuse_id, \"Ellipse_Width\", \"XSecCurve_1\", width)\n",
    "vsp.SetParmVal(fuse_id, \"Ellipse_Width\", \"XSecCurve_2\", width)\n",
    "vsp.SetParmVal(fuse_id, \"Ellipse_Width\", \"XSecCurve_3\", width)\n",
    "vsp.SetParmVal(fuse_id, \"Ellipse_Height\", \"XSecCurve_1\", height1);\n",
    "vsp.SetParmVal(fuse_id, \"Ellipse_Height\", \"XSecCurve_2\", height2);\n",
    "vsp.SetParmVal(fuse_id, \"Ellipse_Height\", \"XSecCurve_3\", height3);   \n",
    "\n",
    "# Write the vehicle to the file\n",
    "\n",
    "vsp.WriteVSPFile(fuselage.tag + \".vsp3\")"
   ]
  },
  {
   "cell_type": "code",
   "execution_count": 33,
   "metadata": {
    "ExecuteTime": {
     "end_time": "2018-09-18T10:03:59.667000Z",
     "start_time": "2018-09-18T10:03:59.447000Z"
    }
   },
   "outputs": [],
   "source": [
    "! explorer ."
   ]
  },
  {
   "cell_type": "code",
   "execution_count": null,
   "metadata": {},
   "outputs": [],
   "source": []
  },
  {
   "cell_type": "code",
   "execution_count": null,
   "metadata": {},
   "outputs": [],
   "source": []
  }
 ],
 "metadata": {
  "kernelspec": {
   "display_name": "Python 2",
   "language": "python",
   "name": "python2"
  },
  "language_info": {
   "codemirror_mode": {
    "name": "ipython",
    "version": 2
   },
   "file_extension": ".py",
   "mimetype": "text/x-python",
   "name": "python",
   "nbconvert_exporter": "python",
   "pygments_lexer": "ipython2",
   "version": "2.7.15"
  },
  "nbTranslate": {
   "displayLangs": [
    "*"
   ],
   "hotkey": "alt-t",
   "langInMainMenu": true,
   "sourceLang": "en",
   "targetLang": "fr",
   "useGoogleTranslate": true
  },
  "toc": {
   "base_numbering": 1,
   "nav_menu": {},
   "number_sections": true,
   "sideBar": true,
   "skip_h1_title": false,
   "title_cell": "Table of Contents",
   "title_sidebar": "Contents",
   "toc_cell": false,
   "toc_position": {},
   "toc_section_display": true,
   "toc_window_display": false
  },
  "varInspector": {
   "cols": {
    "lenName": 16,
    "lenType": 16,
    "lenVar": 40
   },
   "kernels_config": {
    "python": {
     "delete_cmd_postfix": "",
     "delete_cmd_prefix": "del ",
     "library": "var_list.py",
     "varRefreshCmd": "print(var_dic_list())"
    },
    "r": {
     "delete_cmd_postfix": ") ",
     "delete_cmd_prefix": "rm(",
     "library": "var_list.r",
     "varRefreshCmd": "cat(var_dic_list()) "
    }
   },
   "types_to_exclude": [
    "module",
    "function",
    "builtin_function_or_method",
    "instance",
    "_Feature"
   ],
   "window_display": false
  }
 },
 "nbformat": 4,
 "nbformat_minor": 2
}
