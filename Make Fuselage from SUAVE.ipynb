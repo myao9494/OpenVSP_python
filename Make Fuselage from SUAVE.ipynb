{
 "cells": [
  {
   "cell_type": "markdown",
   "metadata": {},
   "source": [
    "## dummy SUAVE Vehicle( only Fuselage)"
   ]
  },
  {
   "cell_type": "code",
   "execution_count": 1,
   "metadata": {
    "ExecuteTime": {
     "end_time": "2018-09-15T11:27:27.385000Z",
     "start_time": "2018-09-15T11:27:21.102000Z"
    }
   },
   "outputs": [],
   "source": [
    "import SUAVE\n",
    "from SUAVE.Core import Units, Data\n",
    "import vsp\n",
    "import numpy as np\n",
    "\n",
    "vehicle = SUAVE.Vehicle()\n",
    "vehicle.tag = 'test'    \n",
    "\n",
    "# ------------------------------------------------------------------\n",
    "#  Fuselage\n",
    "# ------------------------------------------------------------------\n",
    "\n",
    "c = SUAVE.Components.Fuselages.Fuselage()\n",
    "fuselage.tag = 'fuselage'\n",
    "\n",
    "fuselage.number_coach_seats    = vehicle.passengers\n",
    "fuselage.seats_abreast         = 6\n",
    "fuselage.seat_pitch            = 1     * Units.meter\n",
    "fuselage.fineness.nose         = 1.6\n",
    "fuselage.fineness.tail         = 2.\n",
    "fuselage.lengths.nose          = 6.4   * Units.meter\n",
    "fuselage.lengths.tail          = 8.0   * Units.meter\n",
    "fuselage.lengths.cabin         = 28.85 * Units.meter\n",
    "fuselage.lengths.total         = 38.02 * Units.meter\n",
    "fuselage.lengths.fore_space    = 6.    * Units.meter\n",
    "fuselage.lengths.aft_space     = 5.    * Units.meter\n",
    "fuselage.width                 = 3.74  * Units.meter\n",
    "fuselage.heights.maximum       = 3.74  * Units.meter\n",
    "fuselage.effective_diameter    = 3.74     * Units.meter\n",
    "fuselage.areas.side_projected  = 142.1948 * Units['meters**2'] \n",
    "fuselage.areas.wetted          = 446.718  * Units['meters**2'] \n",
    "fuselage.areas.front_projected = 12.57    * Units['meters**2'] \n",
    "fuselage.differential_pressure = 5.0e4 * Units.pascal # Maximum differential pressure\n",
    "\n",
    "fuselage.heights.at_quarter_length          = 3.74 * Units.meter\n",
    "fuselage.heights.at_three_quarters_length   = 3.65 * Units.meter\n",
    "fuselage.heights.at_wing_root_quarter_chord = 3.74 * Units.meter\n",
    "\n",
    "# add to vehicle\n",
    "vehicle.append_component(fuselage)\n"
   ]
  },
  {
   "cell_type": "code",
   "execution_count": 5,
   "metadata": {
    "ExecuteTime": {
     "end_time": "2018-09-15T11:30:17.683000Z",
     "start_time": "2018-09-15T11:30:17.649000Z"
    }
   },
   "outputs": [
    {
     "ename": "AttributeError",
     "evalue": "'str' object has no attribute 'tag'",
     "output_type": "error",
     "traceback": [
      "\u001b[1;31m---------------------------------------------------------------------------\u001b[0m",
      "\u001b[1;31mAttributeError\u001b[0m                            Traceback (most recent call last)",
      "\u001b[1;32m<ipython-input-5-66c601e5a8d8>\u001b[0m in \u001b[0;36m<module>\u001b[1;34m()\u001b[0m\n\u001b[1;32m----> 1\u001b[1;33m \u001b[0mfuselage\u001b[0m\u001b[1;33m.\u001b[0m\u001b[0mappend\u001b[0m\u001b[1;33m(\u001b[0m\u001b[1;34m\"Xsec\"\u001b[0m\u001b[1;33m)\u001b[0m\u001b[1;33m\u001b[0m\u001b[0m\n\u001b[0m",
      "\u001b[1;32mC:\\Users\\mineo\\Anaconda2\\lib\\site-packages\\suave-1.0.0-py2.7.egg\\SUAVE\\Core\\Data.pyc\u001b[0m in \u001b[0;36mappend\u001b[1;34m(self, value, key)\u001b[0m\n\u001b[0;32m    481\u001b[0m             \u001b[0mN\u001b[0m\u001b[1;33m/\u001b[0m\u001b[0mA\u001b[0m\u001b[1;33m\u001b[0m\u001b[0m\n\u001b[0;32m    482\u001b[0m         \"\"\"          \n\u001b[1;32m--> 483\u001b[1;33m         \u001b[1;32mif\u001b[0m \u001b[0mkey\u001b[0m \u001b[1;32mis\u001b[0m \u001b[0mNone\u001b[0m\u001b[1;33m:\u001b[0m \u001b[0mkey\u001b[0m \u001b[1;33m=\u001b[0m \u001b[0mvalue\u001b[0m\u001b[1;33m.\u001b[0m\u001b[0mtag\u001b[0m\u001b[1;33m\u001b[0m\u001b[0m\n\u001b[0m\u001b[0;32m    484\u001b[0m         \u001b[0mkey_in\u001b[0m \u001b[1;33m=\u001b[0m \u001b[0mkey\u001b[0m\u001b[1;33m\u001b[0m\u001b[0m\n\u001b[0;32m    485\u001b[0m         \u001b[0mkey\u001b[0m \u001b[1;33m=\u001b[0m \u001b[0mkey\u001b[0m\u001b[1;33m.\u001b[0m\u001b[0mtranslate\u001b[0m\u001b[1;33m(\u001b[0m\u001b[0mt_table\u001b[0m\u001b[1;33m)\u001b[0m\u001b[1;33m\u001b[0m\u001b[0m\n",
      "\u001b[1;31mAttributeError\u001b[0m: 'str' object has no attribute 'tag'"
     ]
    }
   ],
   "source": [
    "fuselage.append(\"Xsec\")"
   ]
  },
  {
   "cell_type": "markdown",
   "metadata": {
    "ExecuteTime": {
     "end_time": "2018-09-15T10:55:25.684000Z",
     "start_time": "2018-09-15T10:55:25.652000Z"
    }
   },
   "source": [
    "## SUAVE vsp write(only Fuselage)"
   ]
  },
  {
   "cell_type": "code",
   "execution_count": 2,
   "metadata": {
    "ExecuteTime": {
     "end_time": "2018-09-15T11:27:30.618000Z",
     "start_time": "2018-09-15T11:27:30.603000Z"
    }
   },
   "outputs": [],
   "source": [
    "# -------------\n",
    "# Fuselage\n",
    "# -------------    \n",
    "\n",
    "fuselage = vehicle.fuselages.fuselage\n",
    "width    = fuselage.width\n",
    "length   = fuselage.lengths.total\n",
    "hmax     = fuselage.heights.maximum\n",
    "height1  = fuselage.heights.at_quarter_length\n",
    "height2  = fuselage.heights.at_wing_root_quarter_chord \n",
    "height3  = fuselage.heights.at_three_quarters_length\n",
    "effdia   = fuselage.effective_diameter\n",
    "n_fine   = fuselage.fineness.nose \n",
    "t_fine   = fuselage.fineness.tail  \n",
    "# w_ac     = wing.aerodynamic_center\n",
    "\n",
    "# w_origin = vehicle.wings.main_wing.origin\n",
    "# w_c_4    = vehicle.wings.main_wing.chords.root/4."
   ]
  },
  {
   "cell_type": "code",
   "execution_count": 3,
   "metadata": {
    "ExecuteTime": {
     "end_time": "2018-09-15T11:27:31.788000Z",
     "start_time": "2018-09-15T11:27:31.755000Z"
    }
   },
   "outputs": [],
   "source": [
    "# Figure out the location x location of each section, 3 sections, end of nose, wing origin, and start of tail\n",
    "\n",
    "x1 = n_fine*width/length\n",
    "# x2 = (w_origin[0]+w_c_4)/length\n",
    "# x3 = 1-t_fine*width/length\n",
    "\n",
    "x2 = 2\n",
    "x3 = 3\n",
    "\n",
    "fuse_id = vsp.AddGeom(\"FUSELAGE\") \n",
    "vsp.SetGeomName(fuse_id, fuselage.tag)\n",
    "# area_tags[fuselage.tag] = ['fuselages',fuselage.tag]\n",
    "\n",
    "tail_z_pos = 0.02 # default value"
   ]
  },
  {
   "cell_type": "code",
   "execution_count": 4,
   "metadata": {
    "ExecuteTime": {
     "end_time": "2018-09-15T11:27:32.886000Z",
     "start_time": "2018-09-15T11:27:32.828000Z"
    }
   },
   "outputs": [],
   "source": [
    "if fuselage.has_key('OpenVSP_values'):\n",
    "    vals = fuselage.OpenVSP_values\n",
    "\n",
    "    # for wave drag testing\n",
    "    fuselage.OpenVSP_ID = fuse_id\n",
    "\n",
    "    # Nose\n",
    "    vsp.SetParmVal(fuse_id,\"TopLAngle\",\"XSec_0\",vals.nose.top.angle)\n",
    "    vsp.SetParmVal(fuse_id,\"TopLStrength\",\"XSec_0\",vals.nose.top.strength)\n",
    "    vsp.SetParmVal(fuse_id,\"RightLAngle\",\"XSec_0\",vals.nose.side.angle)\n",
    "    vsp.SetParmVal(fuse_id,\"RightLStrength\",\"XSec_0\",vals.nose.side.strength)\n",
    "    vsp.SetParmVal(fuse_id,\"TBSym\",\"XSec_0\",vals.nose.TB_Sym)\n",
    "    vsp.SetParmVal(fuse_id,\"ZLocPercent\",\"XSec_0\",vals.nose.z_pos)\n",
    "\n",
    "\n",
    "    # Tail\n",
    "    vsp.SetParmVal(fuse_id,\"TopLAngle\",\"XSec_4\",vals.tail.top.angle)\n",
    "    vsp.SetParmVal(fuse_id,\"TopLStrength\",\"XSec_4\",vals.tail.top.strength)\n",
    "    # Below can be enabled if AllSym (below) is removed\n",
    "    #vsp.SetParmVal(fuse_id,\"RightLAngle\",\"XSec_4\",vals.tail.side.angle)\n",
    "    #vsp.SetParmVal(fuse_id,\"RightLStrength\",\"XSec_4\",vals.tail.side.strength)\n",
    "    #vsp.SetParmVal(fuse_id,\"TBSym\",\"XSec_4\",vals.tail.TB_Sym)\n",
    "    #vsp.SetParmVal(fuse_id,\"BottomLAngle\",\"XSec_4\",vals.tail.bottom.angle)\n",
    "    #vsp.SetParmVal(fuse_id,\"BottomLStrength\",\"XSec_4\",vals.tail.bottom.strength)\n",
    "    if vals.tail.has_key('z_pos'):\n",
    "        tail_z_pos = vals.tail.z_pos\n",
    "    else:\n",
    "        pass # use above default\n",
    "\n",
    "    vsp.SetParmVal(fuse_id,\"AllSym\",\"XSec_4\",1)\n",
    "\n",
    "vsp.SetParmVal(fuse_id,\"Length\",\"Design\",length)\n",
    "vsp.SetParmVal(fuse_id,\"Diameter\",\"Design\",width)\n",
    "vsp.SetParmVal(fuse_id,\"XLocPercent\",\"XSec_1\",x1)\n",
    "vsp.SetParmVal(fuse_id,\"XLocPercent\",\"XSec_2\",x2)\n",
    "vsp.SetParmVal(fuse_id,\"XLocPercent\",\"XSec_3\",x3)\n",
    "vsp.SetParmVal(fuse_id,\"ZLocPercent\",\"XSec_4\",tail_z_pos)\n",
    "vsp.SetParmVal(fuse_id, \"Ellipse_Width\", \"XSecCurve_1\", width)\n",
    "vsp.SetParmVal(fuse_id, \"Ellipse_Width\", \"XSecCurve_2\", width)\n",
    "vsp.SetParmVal(fuse_id, \"Ellipse_Width\", \"XSecCurve_3\", width)\n",
    "vsp.SetParmVal(fuse_id, \"Ellipse_Height\", \"XSecCurve_1\", height1);\n",
    "vsp.SetParmVal(fuse_id, \"Ellipse_Height\", \"XSecCurve_2\", height2);\n",
    "vsp.SetParmVal(fuse_id, \"Ellipse_Height\", \"XSecCurve_3\", height3);   \n",
    "\n",
    "# Write the vehicle to the file\n",
    "\n",
    "vsp.WriteVSPFile(fuselage.tag + \".vsp3\")"
   ]
  },
  {
   "cell_type": "code",
   "execution_count": 16,
   "metadata": {
    "ExecuteTime": {
     "end_time": "2018-09-15T10:58:42.292000Z",
     "start_time": "2018-09-15T10:58:42.062000Z"
    }
   },
   "outputs": [],
   "source": [
    "! explorer ."
   ]
  },
  {
   "cell_type": "code",
   "execution_count": null,
   "metadata": {},
   "outputs": [],
   "source": []
  },
  {
   "cell_type": "code",
   "execution_count": null,
   "metadata": {},
   "outputs": [],
   "source": []
  }
 ],
 "metadata": {
  "kernelspec": {
   "display_name": "Python 2",
   "language": "python",
   "name": "python2"
  },
  "language_info": {
   "codemirror_mode": {
    "name": "ipython",
    "version": 2
   },
   "file_extension": ".py",
   "mimetype": "text/x-python",
   "name": "python",
   "nbconvert_exporter": "python",
   "pygments_lexer": "ipython2",
   "version": "2.7.15"
  },
  "toc": {
   "base_numbering": 1,
   "nav_menu": {},
   "number_sections": true,
   "sideBar": true,
   "skip_h1_title": false,
   "title_cell": "Table of Contents",
   "title_sidebar": "Contents",
   "toc_cell": false,
   "toc_position": {},
   "toc_section_display": true,
   "toc_window_display": false
  },
  "varInspector": {
   "cols": {
    "lenName": 16,
    "lenType": 16,
    "lenVar": 40
   },
   "kernels_config": {
    "python": {
     "delete_cmd_postfix": "",
     "delete_cmd_prefix": "del ",
     "library": "var_list.py",
     "varRefreshCmd": "print(var_dic_list())"
    },
    "r": {
     "delete_cmd_postfix": ") ",
     "delete_cmd_prefix": "rm(",
     "library": "var_list.r",
     "varRefreshCmd": "cat(var_dic_list()) "
    }
   },
   "types_to_exclude": [
    "module",
    "function",
    "builtin_function_or_method",
    "instance",
    "_Feature"
   ],
   "window_display": false
  }
 },
 "nbformat": 4,
 "nbformat_minor": 2
}
