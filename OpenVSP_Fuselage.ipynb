{
 "cells": [
  {
   "cell_type": "code",
   "execution_count": 5,
   "metadata": {
    "ExecuteTime": {
     "end_time": "2018-09-11T09:51:48.697000Z",
     "start_time": "2018-09-11T09:51:48.454000Z"
    }
   },
   "outputs": [],
   "source": [
    "! explorer ."
   ]
  },
  {
   "cell_type": "code",
   "execution_count": null,
   "metadata": {},
   "outputs": [],
   "source": [
    "Xsec_point.xlsx"
   ]
  },
  {
   "cell_type": "markdown",
   "metadata": {},
   "source": [
    "## 断面を作る"
   ]
  },
  {
   "cell_type": "markdown",
   "metadata": {},
   "source": [
    "### 断面ファイルのサンプル\n",
    "https://github.com/OpenVSP/OpenVSP のTestXSec.fxs"
   ]
  },
  {
   "cell_type": "code",
   "execution_count": null,
   "metadata": {},
   "outputs": [],
   "source": [
    "OPENVSP_XSEC_FILE_V1\n",
    "1.0  0.0\n",
    "0.0  -1.0\n",
    "-1.0   0.0\n",
    "0.0   1.0\n",
    "1.0  0.0"
   ]
  },
  {
   "cell_type": "markdown",
   "metadata": {},
   "source": [
    "**注意**\n",
    "1. X軸上のプラスの点から始めること\n",
    "1. 時計回り\n",
    "1. クローズするように点作成\n",
    "1. 点間距離が細かすぎると、エラーを起こす"
   ]
  },
  {
   "cell_type": "markdown",
   "metadata": {},
   "source": [
    "## GUI 断面ファイルの読み込み\n",
    "動画参照"
   ]
  },
  {
   "cell_type": "markdown",
   "metadata": {},
   "source": [
    "## python API"
   ]
  },
  {
   "cell_type": "markdown",
   "metadata": {},
   "source": [
    "おまじない"
   ]
  },
  {
   "cell_type": "code",
   "execution_count": 1,
   "metadata": {
    "ExecuteTime": {
     "end_time": "2018-09-11T11:52:58.365000Z",
     "start_time": "2018-09-11T11:52:56.658000Z"
    }
   },
   "outputs": [],
   "source": [
    "\"\"\"Test the OpenVSP Python Interface.\"\"\"\n",
    "%matplotlib inline\n",
    "from __future__ import print_function\n",
    "\n",
    "import vsp as vsp\n",
    "import numpy as np\n",
    "import pandas as pd\n",
    "\n",
    "def angle_between(refvec):\n",
    "    origin=[0,0]\n",
    "    ang1 = np.arctan2(*origin[::-1])\n",
    "    ang2 = np.arctan2(*refvec[::-1])\n",
    "    return np.rad2deg((ang1 - ang2) % (2 * np.pi))\n",
    "\n",
    "stdout = vsp.cvar.cstdout\n",
    "errorMgr = vsp.ErrorMgrSingleton_getInstance()"
   ]
  },
  {
   "cell_type": "markdown",
   "metadata": {},
   "source": [
    "input 断面"
   ]
  },
  {
   "cell_type": "code",
   "execution_count": 2,
   "metadata": {
    "ExecuteTime": {
     "end_time": "2018-09-11T11:53:00.645000Z",
     "start_time": "2018-09-11T11:53:00.389000Z"
    }
   },
   "outputs": [
    {
     "data": {
      "text/html": [
       "<div>\n",
       "<style scoped>\n",
       "    .dataframe tbody tr th:only-of-type {\n",
       "        vertical-align: middle;\n",
       "    }\n",
       "\n",
       "    .dataframe tbody tr th {\n",
       "        vertical-align: top;\n",
       "    }\n",
       "\n",
       "    .dataframe thead th {\n",
       "        text-align: right;\n",
       "    }\n",
       "</style>\n",
       "<table border=\"1\" class=\"dataframe\">\n",
       "  <thead>\n",
       "    <tr style=\"text-align: right;\">\n",
       "      <th></th>\n",
       "      <th>0</th>\n",
       "      <th>1</th>\n",
       "    </tr>\n",
       "  </thead>\n",
       "  <tbody>\n",
       "    <tr>\n",
       "      <th>0</th>\n",
       "      <td>0.800000</td>\n",
       "      <td>0.000000</td>\n",
       "    </tr>\n",
       "    <tr>\n",
       "      <th>1</th>\n",
       "      <td>0.570244</td>\n",
       "      <td>-0.179091</td>\n",
       "    </tr>\n",
       "    <tr>\n",
       "      <th>2</th>\n",
       "      <td>0.624410</td>\n",
       "      <td>-1.190968</td>\n",
       "    </tr>\n",
       "    <tr>\n",
       "      <th>3</th>\n",
       "      <td>0.429874</td>\n",
       "      <td>-0.840401</td>\n",
       "    </tr>\n",
       "    <tr>\n",
       "      <th>4</th>\n",
       "      <td>-0.584389</td>\n",
       "      <td>-0.902776</td>\n",
       "    </tr>\n",
       "    <tr>\n",
       "      <th>5</th>\n",
       "      <td>-0.743764</td>\n",
       "      <td>0.381409</td>\n",
       "    </tr>\n",
       "    <tr>\n",
       "      <th>6</th>\n",
       "      <td>0.800000</td>\n",
       "      <td>0.000000</td>\n",
       "    </tr>\n",
       "  </tbody>\n",
       "</table>\n",
       "</div>"
      ],
      "text/plain": [
       "          0         1\n",
       "0  0.800000  0.000000\n",
       "1  0.570244 -0.179091\n",
       "2  0.624410 -1.190968\n",
       "3  0.429874 -0.840401\n",
       "4 -0.584389 -0.902776\n",
       "5 -0.743764  0.381409\n",
       "6  0.800000  0.000000"
      ]
     },
     "execution_count": 2,
     "metadata": {},
     "output_type": "execute_result"
    },
    {
     "data": {
      "image/png": "[encoded data removed]",
      "text/plain": [
       "<Figure size 432x288 with 1 Axes>"
      ]
     },
     "metadata": {},
     "output_type": "display_data"
    }
   ],
   "source": [
    "start_and_end_point = [0.8,0]\n",
    "point = np.random.randn(5,2)\n",
    "point = np.insert(point,0,start_and_end_point,axis=0)\n",
    "pnt=point.tolist()\n",
    "pnt = sorted(pnt, key=angle_between)\n",
    "pnt.append(start_and_end_point)\n",
    "df = pd.DataFrame(pnt)\n",
    "df.plot(kind='scatter', x=0, y=1)\n",
    "df"
   ]
  },
  {
   "cell_type": "markdown",
   "metadata": {},
   "source": [
    "中身"
   ]
  },
  {
   "cell_type": "code",
   "execution_count": 3,
   "metadata": {
    "ExecuteTime": {
     "end_time": "2018-09-11T11:53:14.574000Z",
     "start_time": "2018-09-11T11:53:14.245000Z"
    }
   },
   "outputs": [
    {
     "name": "stdout",
     "output_type": "stream",
     "text": [
      "All geoms in Vehicle.\n",
      "()\n"
     ]
    }
   ],
   "source": [
    "\n",
    "# ==== Use Case 2 ====#\n",
    "\n",
    "vsp.VSPRenew()\n",
    "errorMgr.PopErrorAndPrint(stdout)\n",
    "\n",
    "geoms = vsp.FindGeoms()\n",
    "\n",
    "print(\"All geoms in Vehicle.\")\n",
    "print(geoms)\n",
    "\n",
    "# Add Fuse\n",
    "fuse_id = vsp.AddGeom(\"FUSELAGE\")\n",
    "\n",
    "# Get XSec Surf ID\n",
    "xsurf_id = vsp.GetXSecSurf(fuse_id, 0)\n",
    "\n",
    "# Change Type of First XSec\n",
    "vsp.ChangeXSecShape(xsurf_id, 0, vsp.XS_SUPER_ELLIPSE)\n",
    "errorMgr.PopErrorAndPrint(stdout)\n",
    "\n",
    "# Change Type First XSec Properties\n",
    "xsec_id = vsp.GetXSec(xsurf_id, 0)\n",
    "width_id = vsp.GetXSecParm(xsec_id, \"Super_Width\")\n",
    "height_id = vsp.GetXSecParm(xsec_id, \"Super_Height\")\n",
    "vsp.SetParmVal(width_id, 4.0)\n",
    "vsp.SetParmVal(height_id, 2.0)\n",
    "\n",
    "# Copy Cross-Section to Clipboard\n",
    "vsp.CopyXSec(fuse_id, 0)\n",
    "\n",
    "# Paste Cross-Section\n",
    "vsp.PasteXSec(fuse_id, 1)\n",
    "vsp.PasteXSec(fuse_id, 2)\n",
    "vsp.PasteXSec(fuse_id, 3)\n",
    "\n",
    "# Change Type to File XSec\n",
    "\n",
    "vsp.ChangeXSecShape(xsurf_id, 0, vsp.XS_FILE_FUSE)\n",
    "file_xsec_id = vsp.GetXSec(xsurf_id, 0)\n",
    "\n",
    "# Build Point Vec\n",
    "pnt_vec = vsp.Vec3dVec() \n",
    "for vec in pnt:\n",
    "    pnt_vec.push_back(vsp.vec3d(vec[0], vec[1], 0.0)) \n",
    "# pnt_vec = vsp.Vec3dVec() \n",
    "# pnt_vec.push_back(vsp.vec3d(1.0, 0.0, 0.0)) \n",
    "# pnt_vec.push_back(vsp.vec3d(0.0, -2.0, 0.0)) \n",
    "# pnt_vec.push_back(vsp.vec3d(-1.0, 0.0, 0.0)) \n",
    "# pnt_vec.push_back(vsp.vec3d(0.0, 2.0, 0.0)) \n",
    "# pnt_vec.push_back(vsp.vec3d(1.0, 0.0, 0.0)) \n",
    "\n",
    "# Load Points Into XSec\n",
    "vsp.SetXSecPnts(file_xsec_id, pnt_vec)"
   ]
  },
  {
   "cell_type": "markdown",
   "metadata": {},
   "source": [
    "最後のおまじない"
   ]
  },
  {
   "cell_type": "code",
   "execution_count": 4,
   "metadata": {
    "ExecuteTime": {
     "end_time": "2018-09-11T11:53:15.749000Z",
     "start_time": "2018-09-11T11:53:15.689000Z"
    }
   },
   "outputs": [
    {
     "name": "stdout",
     "output_type": "stream",
     "text": [
      "End of second use case, all geoms in Vehicle.\n",
      "('CKMPJCJTRB',)\n"
     ]
    }
   ],
   "source": [
    "geoms = vsp.FindGeoms()\n",
    "\n",
    "print(\"End of second use case, all geoms in Vehicle.\")\n",
    "print(geoms)\n",
    "\n",
    "vsp.WriteVSPFile(\"apitest2.vsp3\")\n",
    "\n",
    "# Check for errors\n",
    "\n",
    "num_err = errorMgr.GetNumTotalErrors()\n",
    "for i in range(0, num_err):\n",
    "    err = errorMgr.PopLastError()\n",
    "    print(\"error = \", err.m_ErrorString)"
   ]
  },
  {
   "cell_type": "markdown",
   "metadata": {},
   "source": [
    "これで \"apitest2.vsp3\"が出来上がって、Fuselageができあがる"
   ]
  },
  {
   "cell_type": "markdown",
   "metadata": {},
   "source": [
    "## working"
   ]
  },
  {
   "cell_type": "markdown",
   "metadata": {},
   "source": [
    "- 複数の断面をdfに入れる\n",
    "- 各々の断面を表示\n",
    "- 断面のスパンを設定\n",
    "- vspファイルを作成"
   ]
  }
 ],
 "metadata": {
  "kernelspec": {
   "display_name": "Python 2",
   "language": "python",
   "name": "python2"
  },
  "nbTranslate": {
   "displayLangs": [
    "*"
   ],
   "hotkey": "alt-t",
   "langInMainMenu": true,
   "sourceLang": "en",
   "targetLang": "fr",
   "useGoogleTranslate": true
  },
  "toc": {
   "base_numbering": 1,
   "nav_menu": {},
   "number_sections": true,
   "sideBar": true,
   "skip_h1_title": false,
   "title_cell": "Table of Contents",
   "title_sidebar": "Contents",
   "toc_cell": false,
   "toc_position": {},
   "toc_section_display": true,
   "toc_window_display": true
  },
  "varInspector": {
   "cols": {
    "lenName": 16,
    "lenType": 16,
    "lenVar": 40
   },
   "kernels_config": {
    "python": {
     "delete_cmd_postfix": "",
     "delete_cmd_prefix": "del ",
     "library": "var_list.py",
     "varRefreshCmd": "print(var_dic_list())"
    },
    "r": {
     "delete_cmd_postfix": ") ",
     "delete_cmd_prefix": "rm(",
     "library": "var_list.r",
     "varRefreshCmd": "cat(var_dic_list()) "
    }
   },
   "position": {
    "height": "451px",
    "left": "1472px",
    "right": "20px",
    "top": "101px",
    "width": "350px"
   },
   "types_to_exclude": [
    "module",
    "function",
    "builtin_function_or_method",
    "instance",
    "_Feature"
   ],
   "window_display": false
  }
 },
 "nbformat": 4,
 "nbformat_minor": 2
}
